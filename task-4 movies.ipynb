{
 "cells": [
  {
   "cell_type": "code",
   "execution_count": 4,
   "id": "f80312bc",
   "metadata": {},
   "outputs": [
    {
     "name": "stdout",
     "output_type": "stream",
     "text": [
      "Recommendations for User 3: ['DDLJ', 'KGF', 'Jawan', 'RRR']\n"
     ]
    }
   ],
   "source": [
    "import pandas as pd\n",
    "from sklearn.metrics.pairwise import cosine_similarity\n",
    "\n",
    "# Sample user-item matrix (rows represent users, columns represent items)\n",
    "user_item_matrix = pd.DataFrame({\n",
    "    'Jawan': [5, 4, 0, 0],\n",
    "    'KGF': [0, 0, 5, 4],\n",
    "    'DDLJ': [4, 0, 0, 5],\n",
    "    'RRR': [0, 5, 4, 0]\n",
    "})\n",
    "\n",
    "# Calculate similarity matrix using cosine similarity\n",
    "item_similarity_matrix = pd.DataFrame(cosine_similarity(user_item_matrix.T), index=user_item_matrix.columns, columns=user_item_matrix.columns)\n",
    "\n",
    "# Function to get recommendations for a user\n",
    "def get_recommendations(user_id):\n",
    "    user_ratings = user_item_matrix.iloc[user_id]\n",
    "    weighted_ratings = user_ratings.dot(item_similarity_matrix)\n",
    "    recommendations = weighted_ratings.sort_values(ascending=False).index.tolist()\n",
    "    return recommendations\n",
    "\n",
    "# Get recommendations for User 0\n",
    "user_id = 3\n",
    "recommendations = get_recommendations(user_id)\n",
    "print(f\"Recommendations for User {user_id}: {recommendations}\")\n"
   ]
  },
  {
   "cell_type": "code",
   "execution_count": null,
   "id": "407ee002",
   "metadata": {},
   "outputs": [],
   "source": []
  }
 ],
 "metadata": {
  "kernelspec": {
   "display_name": "Python 3 (ipykernel)",
   "language": "python",
   "name": "python3"
  },
  "language_info": {
   "codemirror_mode": {
    "name": "ipython",
    "version": 3
   },
   "file_extension": ".py",
   "mimetype": "text/x-python",
   "name": "python",
   "nbconvert_exporter": "python",
   "pygments_lexer": "ipython3",
   "version": "3.11.5"
  }
 },
 "nbformat": 4,
 "nbformat_minor": 5
}
